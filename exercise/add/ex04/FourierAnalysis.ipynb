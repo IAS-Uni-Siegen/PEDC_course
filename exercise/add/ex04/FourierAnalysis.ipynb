{
 "cells": [
  {
   "cell_type": "markdown",
   "metadata": {},
   "source": [
    "# Fourier analysis of a field distribution\n",
    "Additional Python notebook for the Fourier analysis of a filed distribution of a three-phase winding. "
   ]
  },
  {
   "cell_type": "code",
   "execution_count": 1,
   "metadata": {},
   "outputs": [],
   "source": [
    "import numpy as np"
   ]
  },
  {
   "cell_type": "markdown",
   "metadata": {},
   "source": [
    "## General machine parameters"
   ]
  },
  {
   "cell_type": "code",
   "execution_count": 2,
   "metadata": {},
   "outputs": [],
   "source": [
    "\n",
    "p = 2   # number of pole pairs\n",
    "m = 3   # number of phases\n",
    "q = 2   # number of notches\n",
    "N = 40  # winding number\n",
    "delta = 0.001 # air gap length\n",
    "I = 30  # current in A, rms\n",
    "\n",
    "\n",
    "## number of harmonics\n",
    "k = np.array([1,5,7,11,13,17,19])\n"
   ]
  },
  {
   "cell_type": "markdown",
   "metadata": {},
   "source": [
    "## Maximum flux density\n",
    "The maximum flux density is given with:\n",
    "\\begin{equation*}\n",
    "    \\hat{B} = \\frac{\\mu_{\\mathrm{0}}N \\hat{i}}{2 \\delta}.\n",
    "\\end{equation*}"
   ]
  },
  {
   "cell_type": "code",
   "execution_count": 5,
   "metadata": {},
   "outputs": [],
   "source": [
    "# maximum flux density\n",
    "hat_B = (4*np.pi*10**-7 * N * I * np.sqrt(2))/(2*delta)"
   ]
  },
  {
   "cell_type": "markdown",
   "metadata": {},
   "source": [
    "## Fundamental wave $B^{(1)}_{\\mathrm{a}}$ and $B^{(1)}$\n",
    "\n",
    "The fundamental wave for phase a is given by\n",
    "\\begin{equation*}\n",
    "    \\hat{B}^{(1)}_{\\mathrm{a}} = \\frac{4}{\\pi} \\hat{B} \\xi_{\\mathrm{w,}1},\n",
    "\\end{equation*}\n",
    "and for the three-phase system\n",
    "\\begin{equation*}\n",
    "    \\hat{B}^{(1)} = \\frac{6}{\\pi} \\hat{B} \\xi_{\\mathrm{w,}1}.\n",
    "\\end{equation*}"
   ]
  },
  {
   "cell_type": "code",
   "execution_count": 6,
   "metadata": {},
   "outputs": [],
   "source": [
    "# fundamental wave B_a of phase a\n",
    "fundamental_B_a = hat_B *4/(np.pi)*0.933 # (5.26)\n",
    "\n",
    "# fundamental wave B\n",
    "fundamental_B  = hat_B *6/(np.pi*p)*0.933 # (5.16)"
   ]
  },
  {
   "cell_type": "markdown",
   "metadata": {},
   "source": [
    "# Distribution, pitch and winding factor\n",
    "The distribution factor is defined with:\n",
    "\\begin{equation*}\n",
    "    \\xi_{\\mathrm{d,}k} = \\frac{\\sin\\left( \\frac{k\\cdot \\pi}{2m}\\right)}{q\\sin\\left(\\frac{k\\cdot\\pi}{2mq}\\right)}.\n",
    "\\end{equation*}\n",
    "\n",
    "The pitch factor calculated by:\n",
    "\\begin{equation*}\n",
    "    \\xi_{\\mathrm{p,}k} = \\sin\\left(k\\cdot \\frac{\\pi}{2} \\frac{y}{\\rho_{\\mathrm{p}}} \\right).\n",
    "\\end{equation*}\n",
    "\n",
    "The winding factor is defined as follows:\n",
    "\\begin{equation*}\n",
    "    \\xi_{\\mathrm{w,}k} = \\xi_{\\mathrm{d,}k} \\xi_{\\mathrm{p,}k}.\n",
    "\\end{equation*}"
   ]
  },
  {
   "cell_type": "code",
   "execution_count": 3,
   "metadata": {},
   "outputs": [],
   "source": [
    "xi_d = np.zeros(k.size)\n",
    "xi_p = np.zeros(k.size)\n",
    "xi_w = np.zeros(k.size)\n",
    "\n",
    "for ii in range(1,k.size+1):\n",
    "\n",
    "    # distribution factor\n",
    "    xi_d[ii-1] = np.sin((k[ii-1]*np.pi)/(2*m))/(q*np.sin((k[ii-1]*np.pi)/(2*m*q)))\n",
    "\n",
    "    # pitch factor\n",
    "    xi_p[ii-1] = np.sin(k[ii-1]*(np.pi/2)*(5/6))\n",
    "\n",
    "    # winding factor\n",
    "    xi_w[ii-1] = xi_d[ii-1] * xi_p[ii-1]\n",
    "\n"
   ]
  },
  {
   "cell_type": "markdown",
   "metadata": {},
   "source": [
    "## Fourier coefficients\n",
    "Calculation of the Fourier coefficients for the flux density in the air gap."
   ]
  },
  {
   "cell_type": "code",
   "execution_count": 7,
   "metadata": {},
   "outputs": [],
   "source": [
    "B_k = np.zeros(k.size)\n",
    "rel_B_k = np.zeros(k.size)\n",
    "\n",
    "for ii in range(1,k.size+1):\n",
    "    B_k[ii-1] = (6/np.pi)*hat_B * (1/k[ii-1]) *xi_w[ii-1]\n",
    "    rel_B_k[ii-1] = B_k[ii-1]/B_k[0]*100"
   ]
  },
  {
   "cell_type": "markdown",
   "metadata": {},
   "source": [
    "## Flux density of phase a in the air gap\n",
    "Task description:\n",
    "Sketch the flux density of the fundamental wave in the air gap of phase a, when the current reached its maximum. In addition, draw the flux density of the 11th harmonic."
   ]
  },
  {
   "cell_type": "code",
   "execution_count": 8,
   "metadata": {},
   "outputs": [],
   "source": [
    "import matplotlib.pyplot as plt\n",
    "\n",
    "# render text in latex mode\n",
    "plt.rcParams['text.usetex'] = True"
   ]
  },
  {
   "cell_type": "code",
   "execution_count": 9,
   "metadata": {},
   "outputs": [
    {
     "data": {
      "text/plain": [
       "<matplotlib.legend.Legend at 0x1d4d4f466d0>"
      ]
     },
     "execution_count": 9,
     "metadata": {},
     "output_type": "execute_result"
    },
    {
     "data": {
      "image/png": "[encoded data removed]",
      "text/plain": [
       "<Figure size 551.181x236.22 with 1 Axes>"
      ]
     },
     "metadata": {},
     "output_type": "display_data"
    }
   ],
   "source": [
    "rho_p = np.linspace(0,2*np.pi,100)\n",
    "\n",
    "ii = 0 # select the fundamental wave\n",
    "hat_B_1 = 4/np.pi * hat_B * np.cos(rho_p) * (1/k[ii]) * xi_w[ii]\n",
    "\n",
    "ii = 3 # select 11th harmonic\n",
    "hat_B_11 = 4/np.pi * hat_B * np.cos(11*rho_p) * (1/k[ii]) * xi_w[ii]\n",
    "\n",
    "\n",
    "\n",
    "cm = 1/2.54  # centimeters in inches\n",
    "\n",
    "fig, axs = plt.subplots(1,1,figsize=(14*cm, 6*cm))\n",
    "axs.plot(rho_p, hat_B_1, 'b', rho_p, hat_B_11,'g')\n",
    "axs.set_xlim(0, 2*np.pi)\n",
    "axs.set_ylim(-1.5,1.5)\n",
    "axs.set_xlabel(r'$\\vartheta_{\\mathrm{el}}$',fontsize=12)\n",
    "plt.xticks([0,np.pi/2, np.pi,(3/2)*np.pi,2*np.pi], ['0',r'$\\frac{\\pi}{2}$', r'$\\pi$', r'$\\frac{3\\pi}{2}$',r'$2\\pi$'])\n",
    "axs.set_ylabel('$B$ in T',fontsize=12)\n",
    "axs.grid(True)\n",
    "axs.legend(['fundamental','11th harmonic'],loc='upper center',fontsize=12)\n",
    "\n",
    "\n",
    "\n",
    "\n"
   ]
  },
  {
   "cell_type": "code",
   "execution_count": 9,
   "metadata": {},
   "outputs": [],
   "source": [
    "#fig.savefig('C:/Git/EMD_Course/exercise/fig/ex04/FundamentalAnd11thHarmonic.pdf',\n",
    "#            bbox_inches='tight')"
   ]
  }
 ],
 "metadata": {
  "kernelspec": {
   "display_name": "surrogate",
   "language": "python",
   "name": "python3"
  },
  "language_info": {
   "codemirror_mode": {
    "name": "ipython",
    "version": 3
   },
   "file_extension": ".py",
   "mimetype": "text/x-python",
   "name": "python",
   "nbconvert_exporter": "python",
   "pygments_lexer": "ipython3",
   "version": "3.8.19"
  }
 },
 "nbformat": 4,
 "nbformat_minor": 2
}
