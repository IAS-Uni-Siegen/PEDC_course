{
 "cells": [
  {
   "cell_type": "markdown",
   "metadata": {},
   "source": [
    "# Complex winding factor\n",
    "This is an additional Python notebook to calculate the complex winding factors for the tasks given in the exercise 04."
   ]
  },
  {
   "cell_type": "markdown",
   "metadata": {},
   "source": [
    "## Complex winding factor\n",
    "The complex winding factor for phase a is given as follows:\n",
    "\\begin{equation*}\n",
    "    \\xi_{\\mathrm{w,a,}k} = \\frac{1}{\\mathrm{j}N_{\\mathrm{a}}} \\sum_{i=1}^{Q} N_{\\mathrm{a,}i}e^{\\mathrm{j}k\\vartheta_{\\mathrm{el,a,}i}}\n",
    "\\end{equation*}\n",
    "\n",
    "with\n",
    "\\begin{equation*}\n",
    "    N_{\\mathrm{a}} = \\sum_{i=1}^{Q} |N_{\\mathrm{a,}i} |.\n",
    "\\end{equation*}"
   ]
  },
  {
   "cell_type": "code",
   "execution_count": 1,
   "metadata": {},
   "outputs": [],
   "source": [
    "import numpy as np"
   ]
  },
  {
   "cell_type": "code",
   "execution_count": 3,
   "metadata": {},
   "outputs": [],
   "source": [
    "# general definitions\n",
    "\n",
    "# harmonic order\n",
    "k = np.arange(13)\n",
    "\n",
    "# max. flux density in the air gap \n",
    "hat_B = 1.0   # Vs"
   ]
  },
  {
   "cell_type": "markdown",
   "metadata": {},
   "source": [
    "## Distributed winding scheme\n",
    "In the following, the distributed winding scheme is analyzed."
   ]
  },
  {
   "cell_type": "code",
   "execution_count": 4,
   "metadata": {},
   "outputs": [
    {
     "name": "stdout",
     "output_type": "stream",
     "text": [
      "harm. order 0 : 0j\n",
      "harm. order 1 : (0.2812+0.8653j)\n",
      "harm. order 2 : (-0.0486+0.0353j)\n",
      "harm. order 3 : (0.3078+0.2236j)\n",
      "harm. order 4 : (0.0322-0.099j)\n",
      "harm. order 5 : 0j\n",
      "harm. order 6 : (-0.0727-0.2236j)\n",
      "harm. order 7 : (0.0711-0.0516j)\n",
      "harm. order 8 : (-0.0711-0.0516j)\n",
      "harm. order 9 : (0.0727-0.2236j)\n",
      "harm. order 10 : -0j\n",
      "harm. order 11 : (-0.0322-0.099j)\n",
      "harm. order 12 : (-0.3078+0.2236j)\n"
     ]
    }
   ],
   "source": [
    "# machine parameter\n",
    "p = 2   # number of pole pairs\n",
    "l = 0.35    # axial length of the machine in m\n",
    "d = 0.10    # diameter in m\n",
    "n = 250     # 1/min\n",
    "\n",
    "\n",
    "\n",
    "# number and direction of the winding turns of phase a \n",
    "N_a_i = np.array([-1,1,1,-2,-1,1,2,-1])\n",
    "\n",
    "# calculated mechanical angles in deg\n",
    "vartheta_a_i_deg = np.array([0,72,96,168,192,240,264,336])\n",
    "\n",
    "# conversion in rad\n",
    "vartheta_a_i_rad = 2*np.pi/360*vartheta_a_i_deg\n",
    "\n",
    "\n",
    "# definition of the array size\n",
    "xi_a = [complex()] * k.size     # complex winding factor\n",
    "abs_xi_a = [complex()] * k.size # absolute value of the complex winding factor\n",
    "xi_help = [complex()] * N_a_i.size\n",
    "\n",
    "# calculation of the complex winding factor for k.size number of harmonics\n",
    "for ll in range(1,k.size+1):\n",
    "    # calculation of the Fourier coefficients\n",
    "    for ii in range(1,N_a_i.size+1):\n",
    "        xi_help[ii-1] = N_a_i[ii-1]*np.exp(k[ll-1]*vartheta_a_i_rad[ii-1]*p*1j)\n",
    "\n",
    "    # complex winding factor\n",
    "    xi_a[ll-1] = 1/(1j*sum(abs(N_a_i))) * np.sum(xi_help)\n",
    "    print('harm. order',k[ll-1],':',np.round(xi_a[ll-1],4))\n",
    "\n",
    "    # absolute value of the complex winding factor\n",
    "    abs_xi_a[ll-1] = abs(1/sum(abs(N_a_i)) * np.sum(xi_help))\n",
    "\n",
    "\n"
   ]
  },
  {
   "cell_type": "markdown",
   "metadata": {},
   "source": [
    "### Calculation of the induced voltage per harmonic order\n",
    "The Fourier coefficient of the flux density is given with:\n",
    "\\begin{equation*}\n",
    "    B(\\vartheta_{\\mathrm{el}},t) = \\frac{6}{\\pi p} \\hat{B} \\sum_{k}^{\\infty} \\frac{1}{k} \\sin\\left(\\frac{k\\pi}{2} \\right) \\cos(\\omega t - k \\vartheta_{\\mathrm{el}}).\n",
    "\\end{equation*}\n",
    "\n",
    "The flux linkage of phase a is calculated as:\n",
    "\\begin{equation*}\n",
    "    \\phi_{\\mathrm{a,}k}(t) = l \\frac{d_{\\mathrm{s}}}{2} |\\xi_{\\mathrm{a},k}| \\int_{-\\frac{\\pi}{2}}^{\\frac{\\pi}{2}} B(\\vartheta_{\\mathrm{el}},t) \\mathrm{d}\\vartheta_{\\mathrm{el}}.\n",
    "\\end{equation*}\n",
    "\n",
    "Taking into account also the number of winding turns $N_{\\mathrm{a}}'$, the flux linkage of phase a is given with:\n",
    "\\begin{equation*}\n",
    "    \\psi_{\\mathrm{a,}k}(t) = N_{\\mathrm{a}}' \\phi_{\\mathrm{a,}k}(t).\n",
    "\\end{equation*}"
   ]
  },
  {
   "cell_type": "code",
   "execution_count": 5,
   "metadata": {},
   "outputs": [
    {
     "name": "stdout",
     "output_type": "stream",
     "text": [
      "Induced voltage of the fundamental wave: 47.767340631082085 V\n"
     ]
    }
   ],
   "source": [
    "N_a_prime = 30 # Number of winding turns \n",
    "\n",
    "# array definition\n",
    "psi_a = np.zeros(k.size)\n",
    "u_ind_a = np.zeros(k.size)\n",
    "\n",
    "\n",
    "# calculation for k.size harmonics\n",
    "for ll in range(1,k.size+1):\n",
    "    # flux linkage for the k-th harmonic\n",
    "    psi_a[ll-1] = N_a_prime * (d*l) * 6/(p*np.pi)*hat_B*abs(xi_a[ll-1])\n",
    "    # induced voltage for the k-th harmonic\n",
    "    u_ind_a[ll-1] = 2*np.pi*(n/60)*p * psi_a[ll-1]\n",
    "\n",
    "print('Induced voltage of the fundamental wave:',u_ind_a[1], 'V')"
   ]
  },
  {
   "cell_type": "markdown",
   "metadata": {},
   "source": [
    "## Concentrated winding scheme\n"
   ]
  },
  {
   "cell_type": "code",
   "execution_count": 8,
   "metadata": {},
   "outputs": [
    {
     "name": "stdout",
     "output_type": "stream",
     "text": [
      "harm. order 0 : 0j\n",
      "harm. order 1 : (-0-0.933j)\n",
      "harm. order 2 : 0j\n",
      "harm. order 3 : (-0-0.5j)\n",
      "harm. order 4 : (-0+0j)\n",
      "harm. order 5 : -0.067j\n",
      "harm. order 6 : (-0-0j)\n",
      "harm. order 7 : (-0-0.067j)\n",
      "harm. order 8 : (-0-0j)\n",
      "harm. order 9 : (-0-0.5j)\n",
      "harm. order 10 : 0j\n",
      "harm. order 11 : (-0-0.933j)\n",
      "harm. order 12 : 0j\n"
     ]
    }
   ],
   "source": [
    "# machine parameter\n",
    "p = 5       # number of pole pairs\n",
    "l = 0.70    # axial length of the machine in m\n",
    "d = 0.45    # diameter in m\n",
    "n = 50      # 1/min\n",
    "\n",
    "# number and direction of the winding turns of phase a \n",
    "N_a_i = np.array([2,-1,1,-2,1,-1])\n",
    "\n",
    "# calculated mechanical angles in deg\n",
    "vartheta_a_i_deg = np.array([0,30,150,180,210,330])\n",
    "\n",
    "# conversion in rad\n",
    "vartheta_a_i_rad = 2*np.pi/360*vartheta_a_i_deg\n",
    "\n",
    "\n",
    "# definition of the array size\n",
    "xi_a = [complex()] * k.size     # complex winding factor\n",
    "abs_xi_a = [complex()] * k.size # absolute value of the complex winding factor\n",
    "xi_help = [complex()] * N_a_i.size \n",
    "\n",
    "# calculation of the complex winding factor for k.size number of harmonics\n",
    "for ll in range(1,k.size+1):\n",
    "    # calculation of the Fourier coefficients\n",
    "    for ii in range(1,N_a_i.size+1):\n",
    "        xi_help[ii-1] = N_a_i[ii-1]*np.exp(k[ll-1]*vartheta_a_i_rad[ii-1]*p*1j)\n",
    "\n",
    "    # complex winding factor\n",
    "    xi_a[ll-1] = 1/(1j*sum(abs(N_a_i))) * np.sum(xi_help)\n",
    "    print('harm. order',k[ll-1],':',np.round(xi_a[ll-1],4))\n",
    "\n",
    "    # absolute value of the complex winding factor\n",
    "    abs_xi_a[ll-1] = abs(1/sum(abs(N_a_i)) * np.sum(xi_help))\n",
    "\n",
    "\n"
   ]
  },
  {
   "cell_type": "markdown",
   "metadata": {},
   "source": [
    "### Calculation of the induced voltage per harmonic order"
   ]
  },
  {
   "cell_type": "code",
   "execution_count": 7,
   "metadata": {},
   "outputs": [
    {
     "name": "stdout",
     "output_type": "stream",
     "text": [
      "Induced voltage of the fundamental wave: 402.6416315015873 V\n"
     ]
    }
   ],
   "source": [
    "N_a_prime = 137 # Number of winding turns \n",
    "\n",
    "# array definition\n",
    "psi_a = np.zeros(k.size)\n",
    "u_ind_a = np.zeros(k.size)\n",
    "\n",
    "\n",
    "# calculation for k.size harmonics\n",
    "for ll in range(1,k.size+1):\n",
    "    # flux linkage for the k-th harmonic\n",
    "    psi_a[ll-1] = N_a_prime * (d*l) * 6/(p*np.pi)*hat_B*abs(xi_a[ll-1])\n",
    "    # induced voltage for the k-th harmonic\n",
    "    u_ind_a[ll-1] = 2*np.pi*(n/60)*p * psi_a[ll-1]\n",
    "\n",
    "\n",
    "print('Induced voltage of the fundamental wave:',u_ind_a[1], 'V')"
   ]
  }
 ],
 "metadata": {
  "kernelspec": {
   "display_name": "surrogate",
   "language": "python",
   "name": "python3"
  },
  "language_info": {
   "codemirror_mode": {
    "name": "ipython",
    "version": 3
   },
   "file_extension": ".py",
   "mimetype": "text/x-python",
   "name": "python",
   "nbconvert_exporter": "python",
   "pygments_lexer": "ipython3",
   "version": "3.8.19"
  }
 },
 "nbformat": 4,
 "nbformat_minor": 2
}
